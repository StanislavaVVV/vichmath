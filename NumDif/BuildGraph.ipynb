{
 "cells": [
  {
   "cell_type": "code",
   "execution_count": 88,
   "id": "8e85e772",
   "metadata": {},
   "outputs": [
    {
     "data": {
      "image/png": "[encoded data removed]",
      "text/plain": [
       "<Figure size 432x288 with 1 Axes>"
      ]
     },
     "metadata": {
      "needs_background": "light"
     },
     "output_type": "display_data"
    },
    {
     "name": "stdout",
     "output_type": "stream",
     "text": [
      "k = 2.004363402025464 for N = 3\n"
     ]
    }
   ],
   "source": [
    "import matplotlib.pyplot as plt\n",
    "import math\n",
    "import numpy as np\n",
    "y = []\n",
    "x = []\n",
    "\n",
    "file = (\"err.txt\")\n",
    "f = open(file,'r')\n",
    "z = f.read()\n",
    "arr = z.split()\n",
    "\n",
    "\n",
    "number = len(arr)\n",
    "\n",
    "for i in range(number):\n",
    "    y.append(math.log10(float( arr[i] )))\n",
    "    \n",
    "    \n",
    "    \n",
    "    \n",
    "    \n",
    "    \n",
    "file = (\"lnh.txt\")\n",
    "f = open(file,'r')\n",
    "z = f.read()\n",
    "arr = z.split()\n",
    "\n",
    "\n",
    "number = len(arr)\n",
    "\n",
    "for i in range(number):\n",
    "    x.append(math.log10(float( arr[i] )))\n",
    "    \n",
    "    \n",
    "    \n",
    "\n",
    "    \n",
    "    \n",
    "fig,ax=plt.subplots()\n",
    "ax.set_title(\"log(err) from log(h)\")\n",
    "ax.plot(x,y,\"r\", markersize=5)\n",
    "plt.show()\n",
    "\n",
    "\n",
    "\n",
    "x1 = []\n",
    "y1 = []\n",
    "\n",
    "\n",
    "for i in range(len(x)):\n",
    "    if y[i] == min(y):\n",
    "        min_num = i\n",
    "\n",
    "\n",
    "for i in range(min_num):\n",
    "    x1.append(x[i])\n",
    "    y1.append(y[i])\n",
    "\n",
    "#print(x1,y1)\n",
    "\n",
    "#полином 1 степени по функции\n",
    "p = np.polyfit(x1,y1, 1)\n",
    "#подставляем значения x к полученному полиному\n",
    "\n",
    "print( \"k = \" + str(p[0]) + \" for N = 3\")\n",
    "\n",
    "ya = np.polyval(p, x)\n",
    "\n"
   ]
  },
  {
   "cell_type": "code",
   "execution_count": 16,
   "id": "19ee96f7",
   "metadata": {},
   "outputs": [
    {
     "name": "stdout",
     "output_type": "stream",
     "text": [
      "1600\n"
     ]
    }
   ],
   "source": []
  },
  {
   "cell_type": "code",
   "execution_count": 25,
   "id": "e6cd04a0",
   "metadata": {},
   "outputs": [
    {
     "data": {
      "image/png": "[encoded data removed]",
      "text/plain": [
       "<Figure size 432x288 with 1 Axes>"
      ]
     },
     "metadata": {
      "needs_background": "light"
     },
     "output_type": "display_data"
    }
   ],
   "source": []
  },
  {
   "cell_type": "code",
   "execution_count": null,
   "id": "a130e364",
   "metadata": {},
   "outputs": [],
   "source": []
  }
 ],
 "metadata": {
  "kernelspec": {
   "display_name": "Python 3 (ipykernel)",
   "language": "python",
   "name": "python3"
  },
  "language_info": {
   "codemirror_mode": {
    "name": "ipython",
    "version": 3
   },
   "file_extension": ".py",
   "mimetype": "text/x-python",
   "name": "python",
   "nbconvert_exporter": "python",
   "pygments_lexer": "ipython3",
   "version": "3.9.7"
  }
 },
 "nbformat": 4,
 "nbformat_minor": 5
}
